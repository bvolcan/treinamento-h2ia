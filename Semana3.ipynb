{
  "nbformat": 4,
  "nbformat_minor": 0,
  "metadata": {
    "colab": {
      "provenance": [],
      "authorship_tag": "ABX9TyO463dbWduLOLI2dkaHJEgJ",
      "include_colab_link": true
    },
    "kernelspec": {
      "name": "python3",
      "display_name": "Python 3"
    },
    "language_info": {
      "name": "python"
    }
  },
  "cells": [
    {
      "cell_type": "markdown",
      "metadata": {
        "id": "view-in-github",
        "colab_type": "text"
      },
      "source": [
        "<a href=\"https://colab.research.google.com/github/bvolcan/treinamento-h2ia/blob/main/Semana3.ipynb\" target=\"_parent\"><img src=\"https://colab.research.google.com/assets/colab-badge.svg\" alt=\"Open In Colab\"/></a>"
      ]
    },
    {
      "cell_type": "code",
      "execution_count": 157,
      "metadata": {
        "colab": {
          "base_uri": "https://localhost:8080/"
        },
        "id": "UzHohnLoQ1Hg",
        "outputId": "09038f5c-bc01-4980-d06c-7cd57a29c683"
      },
      "outputs": [
        {
          "output_type": "stream",
          "name": "stdout",
          "text": [
            "--2023-03-22 13:58:06--  https://archive.ics.uci.edu/ml/machine-learning-databases/mushroom/agaricus-lepiota.data\n",
            "Resolving archive.ics.uci.edu (archive.ics.uci.edu)... 128.195.10.252\n",
            "Connecting to archive.ics.uci.edu (archive.ics.uci.edu)|128.195.10.252|:443... connected.\n",
            "HTTP request sent, awaiting response... 200 OK\n",
            "Length: 373704 (365K) [application/x-httpd-php]\n",
            "Saving to: ‘agaricus-lepiota.data.1’\n",
            "\n",
            "\ragaricus-lepiota.da   0%[                    ]       0  --.-KB/s               \ragaricus-lepiota.da 100%[===================>] 364.95K  --.-KB/s    in 0.05s   \n",
            "\n",
            "2023-03-22 13:58:06 (7.00 MB/s) - ‘agaricus-lepiota.data.1’ saved [373704/373704]\n",
            "\n",
            "--2023-03-22 13:58:06--  https://archive.ics.uci.edu/ml/machine-learning-databases/mushroom/agaricus-lepiota.names\n",
            "Resolving archive.ics.uci.edu (archive.ics.uci.edu)... 128.195.10.252\n",
            "Connecting to archive.ics.uci.edu (archive.ics.uci.edu)|128.195.10.252|:443... connected.\n",
            "HTTP request sent, awaiting response... 200 OK\n",
            "Length: 6816 (6.7K) [application/x-httpd-php]\n",
            "Saving to: ‘agaricus-lepiota.names.1’\n",
            "\n",
            "agaricus-lepiota.na 100%[===================>]   6.66K  --.-KB/s    in 0s      \n",
            "\n",
            "2023-03-22 13:58:06 (134 MB/s) - ‘agaricus-lepiota.names.1’ saved [6816/6816]\n",
            "\n"
          ]
        }
      ],
      "source": [
        "import pandas as pd\n",
        "\n",
        "!wget https://archive.ics.uci.edu/ml/machine-learning-databases/mushroom/agaricus-lepiota.data\n",
        "!wget https://archive.ics.uci.edu/ml/machine-learning-databases/mushroom/agaricus-lepiota.names"
      ]
    },
    {
      "cell_type": "code",
      "source": [
        "columns=[\n",
        "  \"class\",\n",
        "  \"cap-shape\",\n",
        "  \"cap-surface\",\n",
        "  \"cap-color\",\n",
        "  \"bruises\",\n",
        "  \"odor\",\n",
        "  \"gill-attachment\",\n",
        "  \"gill-spacing\",\n",
        "  \"gill-size\",\n",
        "  \"gill-color\",\n",
        "  \"stalk-shape\",\n",
        "  \"stalk-root\",\n",
        "  \"stalk-surface-above-ring\",\n",
        "  \"stalk-surface-below-ring\",\n",
        "  \"stalk-color-above-ring\",\n",
        "  \"stalk-color-below-ring\",\n",
        "  \"veil-type\",\n",
        "  \"veil-color\",\n",
        "  \"ring-number\",\n",
        "  \"ring-type\",\n",
        "  \"spore-print-color\",\n",
        "  \"population\",\n",
        "  \"habitat\"\n",
        "]\n",
        "mushroom_raw_data = pd.read_csv(\"./agaricus-lepiota.data\",names=columns)"
      ],
      "metadata": {
        "id": "klDoNm-FUwuP"
      },
      "execution_count": 158,
      "outputs": []
    },
    {
      "cell_type": "code",
      "source": [
        "mushroom_raw_data.head()"
      ],
      "metadata": {
        "colab": {
          "base_uri": "https://localhost:8080/",
          "height": 314
        },
        "id": "Cxa-LDZNR6M7",
        "outputId": "e60ed9f1-b938-4eeb-8d4c-3c729aef645a"
      },
      "execution_count": 159,
      "outputs": [
        {
          "output_type": "execute_result",
          "data": {
            "text/plain": [
              "  class cap-shape cap-surface cap-color bruises odor gill-attachment  \\\n",
              "0     p         x           s         n       t    p               f   \n",
              "1     e         x           s         y       t    a               f   \n",
              "2     e         b           s         w       t    l               f   \n",
              "3     p         x           y         w       t    p               f   \n",
              "4     e         x           s         g       f    n               f   \n",
              "\n",
              "  gill-spacing gill-size gill-color  ... stalk-surface-below-ring  \\\n",
              "0            c         n          k  ...                        s   \n",
              "1            c         b          k  ...                        s   \n",
              "2            c         b          n  ...                        s   \n",
              "3            c         n          n  ...                        s   \n",
              "4            w         b          k  ...                        s   \n",
              "\n",
              "  stalk-color-above-ring stalk-color-below-ring veil-type veil-color  \\\n",
              "0                      w                      w         p          w   \n",
              "1                      w                      w         p          w   \n",
              "2                      w                      w         p          w   \n",
              "3                      w                      w         p          w   \n",
              "4                      w                      w         p          w   \n",
              "\n",
              "  ring-number ring-type spore-print-color population habitat  \n",
              "0           o         p                 k          s       u  \n",
              "1           o         p                 n          n       g  \n",
              "2           o         p                 n          n       m  \n",
              "3           o         p                 k          s       u  \n",
              "4           o         e                 n          a       g  \n",
              "\n",
              "[5 rows x 23 columns]"
            ],
            "text/html": [
              "\n",
              "  <div id=\"df-72b93296-9537-4362-9bc0-c70274b793e7\">\n",
              "    <div class=\"colab-df-container\">\n",
              "      <div>\n",
              "<style scoped>\n",
              "    .dataframe tbody tr th:only-of-type {\n",
              "        vertical-align: middle;\n",
              "    }\n",
              "\n",
              "    .dataframe tbody tr th {\n",
              "        vertical-align: top;\n",
              "    }\n",
              "\n",
              "    .dataframe thead th {\n",
              "        text-align: right;\n",
              "    }\n",
              "</style>\n",
              "<table border=\"1\" class=\"dataframe\">\n",
              "  <thead>\n",
              "    <tr style=\"text-align: right;\">\n",
              "      <th></th>\n",
              "      <th>class</th>\n",
              "      <th>cap-shape</th>\n",
              "      <th>cap-surface</th>\n",
              "      <th>cap-color</th>\n",
              "      <th>bruises</th>\n",
              "      <th>odor</th>\n",
              "      <th>gill-attachment</th>\n",
              "      <th>gill-spacing</th>\n",
              "      <th>gill-size</th>\n",
              "      <th>gill-color</th>\n",
              "      <th>...</th>\n",
              "      <th>stalk-surface-below-ring</th>\n",
              "      <th>stalk-color-above-ring</th>\n",
              "      <th>stalk-color-below-ring</th>\n",
              "      <th>veil-type</th>\n",
              "      <th>veil-color</th>\n",
              "      <th>ring-number</th>\n",
              "      <th>ring-type</th>\n",
              "      <th>spore-print-color</th>\n",
              "      <th>population</th>\n",
              "      <th>habitat</th>\n",
              "    </tr>\n",
              "  </thead>\n",
              "  <tbody>\n",
              "    <tr>\n",
              "      <th>0</th>\n",
              "      <td>p</td>\n",
              "      <td>x</td>\n",
              "      <td>s</td>\n",
              "      <td>n</td>\n",
              "      <td>t</td>\n",
              "      <td>p</td>\n",
              "      <td>f</td>\n",
              "      <td>c</td>\n",
              "      <td>n</td>\n",
              "      <td>k</td>\n",
              "      <td>...</td>\n",
              "      <td>s</td>\n",
              "      <td>w</td>\n",
              "      <td>w</td>\n",
              "      <td>p</td>\n",
              "      <td>w</td>\n",
              "      <td>o</td>\n",
              "      <td>p</td>\n",
              "      <td>k</td>\n",
              "      <td>s</td>\n",
              "      <td>u</td>\n",
              "    </tr>\n",
              "    <tr>\n",
              "      <th>1</th>\n",
              "      <td>e</td>\n",
              "      <td>x</td>\n",
              "      <td>s</td>\n",
              "      <td>y</td>\n",
              "      <td>t</td>\n",
              "      <td>a</td>\n",
              "      <td>f</td>\n",
              "      <td>c</td>\n",
              "      <td>b</td>\n",
              "      <td>k</td>\n",
              "      <td>...</td>\n",
              "      <td>s</td>\n",
              "      <td>w</td>\n",
              "      <td>w</td>\n",
              "      <td>p</td>\n",
              "      <td>w</td>\n",
              "      <td>o</td>\n",
              "      <td>p</td>\n",
              "      <td>n</td>\n",
              "      <td>n</td>\n",
              "      <td>g</td>\n",
              "    </tr>\n",
              "    <tr>\n",
              "      <th>2</th>\n",
              "      <td>e</td>\n",
              "      <td>b</td>\n",
              "      <td>s</td>\n",
              "      <td>w</td>\n",
              "      <td>t</td>\n",
              "      <td>l</td>\n",
              "      <td>f</td>\n",
              "      <td>c</td>\n",
              "      <td>b</td>\n",
              "      <td>n</td>\n",
              "      <td>...</td>\n",
              "      <td>s</td>\n",
              "      <td>w</td>\n",
              "      <td>w</td>\n",
              "      <td>p</td>\n",
              "      <td>w</td>\n",
              "      <td>o</td>\n",
              "      <td>p</td>\n",
              "      <td>n</td>\n",
              "      <td>n</td>\n",
              "      <td>m</td>\n",
              "    </tr>\n",
              "    <tr>\n",
              "      <th>3</th>\n",
              "      <td>p</td>\n",
              "      <td>x</td>\n",
              "      <td>y</td>\n",
              "      <td>w</td>\n",
              "      <td>t</td>\n",
              "      <td>p</td>\n",
              "      <td>f</td>\n",
              "      <td>c</td>\n",
              "      <td>n</td>\n",
              "      <td>n</td>\n",
              "      <td>...</td>\n",
              "      <td>s</td>\n",
              "      <td>w</td>\n",
              "      <td>w</td>\n",
              "      <td>p</td>\n",
              "      <td>w</td>\n",
              "      <td>o</td>\n",
              "      <td>p</td>\n",
              "      <td>k</td>\n",
              "      <td>s</td>\n",
              "      <td>u</td>\n",
              "    </tr>\n",
              "    <tr>\n",
              "      <th>4</th>\n",
              "      <td>e</td>\n",
              "      <td>x</td>\n",
              "      <td>s</td>\n",
              "      <td>g</td>\n",
              "      <td>f</td>\n",
              "      <td>n</td>\n",
              "      <td>f</td>\n",
              "      <td>w</td>\n",
              "      <td>b</td>\n",
              "      <td>k</td>\n",
              "      <td>...</td>\n",
              "      <td>s</td>\n",
              "      <td>w</td>\n",
              "      <td>w</td>\n",
              "      <td>p</td>\n",
              "      <td>w</td>\n",
              "      <td>o</td>\n",
              "      <td>e</td>\n",
              "      <td>n</td>\n",
              "      <td>a</td>\n",
              "      <td>g</td>\n",
              "    </tr>\n",
              "  </tbody>\n",
              "</table>\n",
              "<p>5 rows × 23 columns</p>\n",
              "</div>\n",
              "      <button class=\"colab-df-convert\" onclick=\"convertToInteractive('df-72b93296-9537-4362-9bc0-c70274b793e7')\"\n",
              "              title=\"Convert this dataframe to an interactive table.\"\n",
              "              style=\"display:none;\">\n",
              "        \n",
              "  <svg xmlns=\"http://www.w3.org/2000/svg\" height=\"24px\"viewBox=\"0 0 24 24\"\n",
              "       width=\"24px\">\n",
              "    <path d=\"M0 0h24v24H0V0z\" fill=\"none\"/>\n",
              "    <path d=\"M18.56 5.44l.94 2.06.94-2.06 2.06-.94-2.06-.94-.94-2.06-.94 2.06-2.06.94zm-11 1L8.5 8.5l.94-2.06 2.06-.94-2.06-.94L8.5 2.5l-.94 2.06-2.06.94zm10 10l.94 2.06.94-2.06 2.06-.94-2.06-.94-.94-2.06-.94 2.06-2.06.94z\"/><path d=\"M17.41 7.96l-1.37-1.37c-.4-.4-.92-.59-1.43-.59-.52 0-1.04.2-1.43.59L10.3 9.45l-7.72 7.72c-.78.78-.78 2.05 0 2.83L4 21.41c.39.39.9.59 1.41.59.51 0 1.02-.2 1.41-.59l7.78-7.78 2.81-2.81c.8-.78.8-2.07 0-2.86zM5.41 20L4 18.59l7.72-7.72 1.47 1.35L5.41 20z\"/>\n",
              "  </svg>\n",
              "      </button>\n",
              "      \n",
              "  <style>\n",
              "    .colab-df-container {\n",
              "      display:flex;\n",
              "      flex-wrap:wrap;\n",
              "      gap: 12px;\n",
              "    }\n",
              "\n",
              "    .colab-df-convert {\n",
              "      background-color: #E8F0FE;\n",
              "      border: none;\n",
              "      border-radius: 50%;\n",
              "      cursor: pointer;\n",
              "      display: none;\n",
              "      fill: #1967D2;\n",
              "      height: 32px;\n",
              "      padding: 0 0 0 0;\n",
              "      width: 32px;\n",
              "    }\n",
              "\n",
              "    .colab-df-convert:hover {\n",
              "      background-color: #E2EBFA;\n",
              "      box-shadow: 0px 1px 2px rgba(60, 64, 67, 0.3), 0px 1px 3px 1px rgba(60, 64, 67, 0.15);\n",
              "      fill: #174EA6;\n",
              "    }\n",
              "\n",
              "    [theme=dark] .colab-df-convert {\n",
              "      background-color: #3B4455;\n",
              "      fill: #D2E3FC;\n",
              "    }\n",
              "\n",
              "    [theme=dark] .colab-df-convert:hover {\n",
              "      background-color: #434B5C;\n",
              "      box-shadow: 0px 1px 3px 1px rgba(0, 0, 0, 0.15);\n",
              "      filter: drop-shadow(0px 1px 2px rgba(0, 0, 0, 0.3));\n",
              "      fill: #FFFFFF;\n",
              "    }\n",
              "  </style>\n",
              "\n",
              "      <script>\n",
              "        const buttonEl =\n",
              "          document.querySelector('#df-72b93296-9537-4362-9bc0-c70274b793e7 button.colab-df-convert');\n",
              "        buttonEl.style.display =\n",
              "          google.colab.kernel.accessAllowed ? 'block' : 'none';\n",
              "\n",
              "        async function convertToInteractive(key) {\n",
              "          const element = document.querySelector('#df-72b93296-9537-4362-9bc0-c70274b793e7');\n",
              "          const dataTable =\n",
              "            await google.colab.kernel.invokeFunction('convertToInteractive',\n",
              "                                                     [key], {});\n",
              "          if (!dataTable) return;\n",
              "\n",
              "          const docLinkHtml = 'Like what you see? Visit the ' +\n",
              "            '<a target=\"_blank\" href=https://colab.research.google.com/notebooks/data_table.ipynb>data table notebook</a>'\n",
              "            + ' to learn more about interactive tables.';\n",
              "          element.innerHTML = '';\n",
              "          dataTable['output_type'] = 'display_data';\n",
              "          await google.colab.output.renderOutput(dataTable, element);\n",
              "          const docLink = document.createElement('div');\n",
              "          docLink.innerHTML = docLinkHtml;\n",
              "          element.appendChild(docLink);\n",
              "        }\n",
              "      </script>\n",
              "    </div>\n",
              "  </div>\n",
              "  "
            ]
          },
          "metadata": {},
          "execution_count": 159
        }
      ]
    },
    {
      "cell_type": "code",
      "source": [
        "print(mushroom_raw_data[\"class\"])"
      ],
      "metadata": {
        "colab": {
          "base_uri": "https://localhost:8080/"
        },
        "id": "LUPTBk_2Tv-0",
        "outputId": "80aaff8b-c8e7-48b0-cdab-39282718b2eb"
      },
      "execution_count": 160,
      "outputs": [
        {
          "output_type": "stream",
          "name": "stdout",
          "text": [
            "0       p\n",
            "1       e\n",
            "2       e\n",
            "3       p\n",
            "4       e\n",
            "       ..\n",
            "8119    e\n",
            "8120    e\n",
            "8121    e\n",
            "8122    p\n",
            "8123    e\n",
            "Name: class, Length: 8124, dtype: object\n"
          ]
        }
      ]
    },
    {
      "cell_type": "code",
      "source": [
        "###Teste de binarização utilizando OneHotEncoder\n",
        "\n",
        "# from sklearn.preprocessing import OneHotEncoder\n",
        "\n",
        "# oneHot = OneHotEncoder(handle_unknown='ignore')\n",
        "# oneHot.fit(mushroom_raw_data)\n",
        "\n",
        "# oneHot.get_feature_names_out()\n",
        "\n",
        "# mushroom_processed_data = oneHot.transform(mushroom_raw_data)\n",
        "# mushroom_processed_data = pd.DataFrame(mushroom_processed_data.toarray(),columns=oneHot.get_feature_names_out())\n",
        "# mushroom_processed_data"
      ],
      "metadata": {
        "id": "ahX5VHJiW4SX"
      },
      "execution_count": 161,
      "outputs": []
    },
    {
      "cell_type": "code",
      "source": [
        "from sklearn.model_selection import train_test_split\n",
        "\n",
        "train, test = train_test_split(mushroom_raw_data, test_size=0.3,stratify=mushroom_raw_data[\"class\"])\n",
        "print(len(train), len(test))"
      ],
      "metadata": {
        "colab": {
          "base_uri": "https://localhost:8080/"
        },
        "id": "mnHmJbpVjchW",
        "outputId": "2802383c-ce88-482d-b6fd-38d50038dd45"
      },
      "execution_count": 343,
      "outputs": [
        {
          "output_type": "stream",
          "name": "stdout",
          "text": [
            "5686 2438\n"
          ]
        }
      ]
    },
    {
      "cell_type": "code",
      "source": [
        "import numpy as np\n",
        "import math\n",
        "\n",
        "def find_entropy(data):\n",
        "  entropy = 0\n",
        "  for i in range(data.nunique()):\n",
        "    x = data.value_counts()[i]/data.shape[0] \n",
        "    entropy += (- x * math.log(x,2))\n",
        "  return round(entropy,3)\n",
        "\n",
        "def information_gain(data, data_):\n",
        "  info = 0\n",
        "  for i in range(data_.nunique()):\n",
        "    df = data[data_ == data_.unique()[i]]\n",
        "    w_avg = df.shape[0]/data.shape[0]\n",
        "    entropy = find_entropy(df[\"class\"])\n",
        "    x = w_avg * entropy\n",
        "    info += x\n",
        "  ig = find_entropy(data[\"class\"]) - info\n",
        "  return round(ig, 3) \n",
        "\n",
        "def entropy_and_infogain(data, feature):\n",
        "  for i in range(train[feature].nunique()):\n",
        "    df = data[data[feature]==train[feature].unique()[i]]\n",
        "    if df.shape[0] < 1:\n",
        "        continue\n",
        "    \n",
        "    # display(df[[feature, 'class']].style.applymap(highlight)\\\n",
        "    #         .set_properties(subset=[feature, 'class'], **{'width': '80px'})\\\n",
        "    #         .set_table_styles([{'selector': 'th', 'props': [('background-color', 'lightgray'), \n",
        "    #                                                         ('border', '1px solid gray'), \n",
        "    #                                                         ('font-weight', 'bold')]},\n",
        "    #                             {'selector': 'td', 'props': [('border', '1px solid gray')]},\n",
        "    #                             {'selector': 'tr:hover', 'props': [('background-color', 'white'), \n",
        "    #                                                               ('border', '1.5px solid black')]}]))\n",
        "    \n",
        "    print(f'Entropy of {feature} - {train[feature].unique()[i]} = {find_entropy(df[\"class\"])}')\n",
        "  print(f'Information Gain for {feature} = {information_gain(data, data[feature])}')"
      ],
      "metadata": {
        "id": "xBzMGjAhCfZN"
      },
      "execution_count": 163,
      "outputs": []
    },
    {
      "cell_type": "code",
      "source": [
        "print(f'Entropy of the entire dataset: {find_entropy(train[\"class\"])}')"
      ],
      "metadata": {
        "colab": {
          "base_uri": "https://localhost:8080/"
        },
        "id": "kbd0d0JeEtr9",
        "outputId": "f7f60439-5fb8-47e0-fc8b-3249e21c578e"
      },
      "execution_count": 164,
      "outputs": [
        {
          "output_type": "stream",
          "name": "stdout",
          "text": [
            "Entropy of the entire dataset: 0.999\n"
          ]
        }
      ]
    },
    {
      "cell_type": "code",
      "source": [
        "entropy_and_infogain(train, 'class')"
      ],
      "metadata": {
        "colab": {
          "base_uri": "https://localhost:8080/"
        },
        "id": "O1Dg4G2_IMvl",
        "outputId": "60b4b5ab-9043-49d1-884a-855662130721"
      },
      "execution_count": 165,
      "outputs": [
        {
          "output_type": "stream",
          "name": "stdout",
          "text": [
            "Entropy of class - p = 0.0\n",
            "Entropy of class - e = 0.0\n",
            "Information Gain for class = 0.999\n"
          ]
        }
      ]
    },
    {
      "cell_type": "code",
      "source": [
        "mushroom_raw_data[mushroom_raw_data[\"class\"] == \"p\"][\"class\"].unique()[0]"
      ],
      "metadata": {
        "colab": {
          "base_uri": "https://localhost:8080/",
          "height": 36
        },
        "id": "A27utUM2WCrU",
        "outputId": "deaa6bf6-395d-485f-b169-d4749fa8f3c0"
      },
      "execution_count": 166,
      "outputs": [
        {
          "output_type": "execute_result",
          "data": {
            "text/plain": [
              "'p'"
            ],
            "application/vnd.google.colaboratory.intrinsic+json": {
              "type": "string"
            }
          },
          "metadata": {},
          "execution_count": 166
        }
      ]
    },
    {
      "cell_type": "code",
      "source": [
        "train.columns"
      ],
      "metadata": {
        "colab": {
          "base_uri": "https://localhost:8080/"
        },
        "id": "qF8bKqnpcnJQ",
        "outputId": "1e848cea-a4cf-4053-c284-766a8b939c1e"
      },
      "execution_count": 167,
      "outputs": [
        {
          "output_type": "execute_result",
          "data": {
            "text/plain": [
              "Index(['class', 'cap-shape', 'cap-surface', 'cap-color', 'bruises', 'odor',\n",
              "       'gill-attachment', 'gill-spacing', 'gill-size', 'gill-color',\n",
              "       'stalk-shape', 'stalk-root', 'stalk-surface-above-ring',\n",
              "       'stalk-surface-below-ring', 'stalk-color-above-ring',\n",
              "       'stalk-color-below-ring', 'veil-type', 'veil-color', 'ring-number',\n",
              "       'ring-type', 'spore-print-color', 'population', 'habitat'],\n",
              "      dtype='object')"
            ]
          },
          "metadata": {},
          "execution_count": 167
        }
      ]
    },
    {
      "cell_type": "code",
      "source": [
        "def ordered_info_gain(data):\n",
        "  info_gain_list = []\n",
        "  attributes = data.columns\n",
        "  for i in range(1, len(attributes)):\n",
        "    info_gain_list.append([attributes[i],information_gain(data, data[attributes[i]])])\n",
        "  info_gain_list.sort(reverse = True, key = lambda tuple: tuple[1],)\n",
        "  return info_gain_list"
      ],
      "metadata": {
        "id": "byDZumCGNGuk"
      },
      "execution_count": 168,
      "outputs": []
    },
    {
      "cell_type": "code",
      "source": [
        "def make_sub_tree(root, data_set):\n",
        "  attribute_options = data_set[root].unique()\n",
        "  tree = {root: {}}\n",
        "\n",
        "  for current_option in attribute_options:\n",
        "    tree[root].update({current_option: {}})\n",
        "    current_data_set = data_set[data_set[root] == current_option].copy()\n",
        "    current_class_options = data_set[data_set[root] == current_option][\"class\"]\n",
        "\n",
        "    if current_class_options.nunique() > 1:\n",
        "      next_attribute = ordered_info_gain(current_data_set)[0][0]\n",
        "      tree[root][current_option].update(make_sub_tree(next_attribute, current_data_set))\n",
        "      continue\n",
        "\n",
        "    tree[root][current_option] = current_class_options.unique()[0]\n",
        "    current_data_set.drop(root, inplace=True, axis=1)\n",
        "\n",
        "  return tree"
      ],
      "metadata": {
        "id": "SSI0XN1hPeuC"
      },
      "execution_count": 333,
      "outputs": []
    },
    {
      "cell_type": "code",
      "source": [
        "import json\n",
        "\n",
        "def train_tree(data):\n",
        "  data_copy = data.copy()\n",
        "  info_gain_list = ordered_info_gain(data_copy)\n",
        "\n",
        "  final_tree = make_sub_tree(info_gain_list[0][0], data_copy)\n",
        "  print(json.dumps(final_tree, indent=4))\n",
        "  return final_tree"
      ],
      "metadata": {
        "id": "DsEXk7IJQY23"
      },
      "execution_count": 370,
      "outputs": []
    },
    {
      "cell_type": "code",
      "source": [
        "tree = train_tree(train)"
      ],
      "metadata": {
        "colab": {
          "base_uri": "https://localhost:8080/"
        },
        "id": "_SGS2M7NQxFS",
        "outputId": "44449789-0b29-4861-8104-90bd16e2a8db"
      },
      "execution_count": 371,
      "outputs": [
        {
          "output_type": "stream",
          "name": "stdout",
          "text": [
            "{\n",
            "    \"odor\": {\n",
            "        \"p\": \"p\",\n",
            "        \"l\": \"e\",\n",
            "        \"f\": \"p\",\n",
            "        \"y\": \"p\",\n",
            "        \"s\": \"p\",\n",
            "        \"n\": {\n",
            "            \"spore-print-color\": {\n",
            "                \"k\": \"e\",\n",
            "                \"n\": \"e\",\n",
            "                \"w\": {\n",
            "                    \"habitat\": {\n",
            "                        \"g\": \"e\",\n",
            "                        \"l\": {\n",
            "                            \"cap-color\": {\n",
            "                                \"c\": \"e\",\n",
            "                                \"y\": \"p\",\n",
            "                                \"n\": \"e\",\n",
            "                                \"w\": \"p\"\n",
            "                            }\n",
            "                        },\n",
            "                        \"w\": \"e\",\n",
            "                        \"d\": {\n",
            "                            \"cap-surface\": {\n",
            "                                \"y\": \"p\",\n",
            "                                \"f\": \"p\",\n",
            "                                \"s\": \"e\"\n",
            "                            }\n",
            "                        },\n",
            "                        \"p\": \"e\"\n",
            "                    }\n",
            "                },\n",
            "                \"r\": \"p\",\n",
            "                \"y\": \"e\",\n",
            "                \"b\": \"e\",\n",
            "                \"o\": \"e\",\n",
            "                \"h\": \"e\"\n",
            "            }\n",
            "        },\n",
            "        \"c\": \"p\",\n",
            "        \"a\": \"e\",\n",
            "        \"m\": \"p\"\n",
            "    }\n",
            "}\n"
          ]
        }
      ]
    },
    {
      "cell_type": "code",
      "source": [
        "def predict(model, data, attribute = \"\"):\n",
        "  if isinstance(model, str):\n",
        "        return model\n",
        "  elif isinstance(model, dict):\n",
        "    model_keys = list(model.keys())\n",
        "    if len(model_keys) == 1:\n",
        "      prediction = predict(model[model_keys[0]], data, model_keys[0])\n",
        "    else:\n",
        "      data_attribute = data[attribute]\n",
        "      prediction = predict(model[data_attribute], data)\n",
        "    return prediction\n"
      ],
      "metadata": {
        "id": "diicGbgFTkLL"
      },
      "execution_count": 400,
      "outputs": []
    },
    {
      "cell_type": "code",
      "source": [
        "predict(tree, test.iloc[0])"
      ],
      "metadata": {
        "colab": {
          "base_uri": "https://localhost:8080/",
          "height": 36
        },
        "id": "yLzK6eBvWo9p",
        "outputId": "e116345a-d102-4ea1-b166-9d53d16743da"
      },
      "execution_count": 403,
      "outputs": [
        {
          "output_type": "execute_result",
          "data": {
            "text/plain": [
              "'e'"
            ],
            "application/vnd.google.colaboratory.intrinsic+json": {
              "type": "string"
            }
          },
          "metadata": {},
          "execution_count": 403
        }
      ]
    },
    {
      "cell_type": "code",
      "source": [
        "test.iloc[0][\"class\"]"
      ],
      "metadata": {
        "colab": {
          "base_uri": "https://localhost:8080/",
          "height": 36
        },
        "id": "Z8Nq917Wf7M9",
        "outputId": "2bee5839-48eb-40ef-e345-76d06dc9f398"
      },
      "execution_count": 404,
      "outputs": [
        {
          "output_type": "execute_result",
          "data": {
            "text/plain": [
              "'e'"
            ],
            "application/vnd.google.colaboratory.intrinsic+json": {
              "type": "string"
            }
          },
          "metadata": {},
          "execution_count": 404
        }
      ]
    },
    {
      "cell_type": "code",
      "source": [
        "def evaluate_prediction(data_set, model, target):\n",
        "  correct = 0\n",
        "  wrong = 0\n",
        "  wrong_indexes = []\n",
        "  for i in range(len(data_set)):\n",
        "    prediction = predict(model, data_set.iloc[i])\n",
        "    if prediction == data_set.iloc[i][target]: \n",
        "      correct += 1\n",
        "    else: \n",
        "      # print(prediction, data_set.iloc[i].index)\n",
        "      wrong += 1\n",
        "      wrong_indexes.append(i)\n",
        "\n",
        "  result = (correct / (correct + wrong)) * 100\n",
        "  return correct, wrong, result, wrong_indexes"
      ],
      "metadata": {
        "id": "CXzGezxjhOCa"
      },
      "execution_count": 445,
      "outputs": []
    },
    {
      "cell_type": "code",
      "source": [
        "evaluate_prediction(test, tree, \"class\")"
      ],
      "metadata": {
        "colab": {
          "base_uri": "https://localhost:8080/"
        },
        "id": "Wx1iywSPqdqQ",
        "outputId": "855a3d78-c531-4472-ff47-f4a426cb2c5a"
      },
      "execution_count": 446,
      "outputs": [
        {
          "output_type": "execute_result",
          "data": {
            "text/plain": [
              "(2434, 4, 99.83593109105826, [253, 715, 966, 1795])"
            ]
          },
          "metadata": {},
          "execution_count": 446
        }
      ]
    },
    {
      "cell_type": "code",
      "source": [
        "print(test.iloc[253],'\\n')\n",
        "print(test.iloc[715],'\\n')\n",
        "print(test.iloc[966],'\\n')\n",
        "print(test.iloc[1795],'\\n')"
      ],
      "metadata": {
        "colab": {
          "base_uri": "https://localhost:8080/"
        },
        "id": "VgSF720sreyR",
        "outputId": "3e731194-4afa-41c3-f6a8-fa3115825dde"
      },
      "execution_count": 452,
      "outputs": [
        {
          "output_type": "stream",
          "name": "stdout",
          "text": [
            "class                       e\n",
            "cap-shape                   f\n",
            "cap-surface                 y\n",
            "cap-color                   n\n",
            "bruises                     f\n",
            "odor                        n\n",
            "gill-attachment             f\n",
            "gill-spacing                c\n",
            "gill-size                   b\n",
            "gill-color                  w\n",
            "stalk-shape                 e\n",
            "stalk-root                  b\n",
            "stalk-surface-above-ring    y\n",
            "stalk-surface-below-ring    y\n",
            "stalk-color-above-ring      n\n",
            "stalk-color-below-ring      n\n",
            "veil-type                   p\n",
            "veil-color                  w\n",
            "ring-number                 t\n",
            "ring-type                   p\n",
            "spore-print-color           w\n",
            "population                  y\n",
            "habitat                     d\n",
            "Name: 7292, dtype: object \n",
            "\n",
            "class                       e\n",
            "cap-shape                   b\n",
            "cap-surface                 y\n",
            "cap-color                   n\n",
            "bruises                     f\n",
            "odor                        n\n",
            "gill-attachment             f\n",
            "gill-spacing                c\n",
            "gill-size                   b\n",
            "gill-color                  w\n",
            "stalk-shape                 e\n",
            "stalk-root                  b\n",
            "stalk-surface-above-ring    y\n",
            "stalk-surface-below-ring    y\n",
            "stalk-color-above-ring      n\n",
            "stalk-color-below-ring      n\n",
            "veil-type                   p\n",
            "veil-color                  w\n",
            "ring-number                 t\n",
            "ring-type                   p\n",
            "spore-print-color           w\n",
            "population                  y\n",
            "habitat                     d\n",
            "Name: 7717, dtype: object \n",
            "\n",
            "class                       e\n",
            "cap-shape                   k\n",
            "cap-surface                 y\n",
            "cap-color                   n\n",
            "bruises                     f\n",
            "odor                        n\n",
            "gill-attachment             f\n",
            "gill-spacing                c\n",
            "gill-size                   b\n",
            "gill-color                  w\n",
            "stalk-shape                 e\n",
            "stalk-root                  b\n",
            "stalk-surface-above-ring    y\n",
            "stalk-surface-below-ring    y\n",
            "stalk-color-above-ring      n\n",
            "stalk-color-below-ring      n\n",
            "veil-type                   p\n",
            "veil-color                  w\n",
            "ring-number                 t\n",
            "ring-type                   p\n",
            "spore-print-color           w\n",
            "population                  y\n",
            "habitat                     d\n",
            "Name: 7195, dtype: object \n",
            "\n",
            "class                       e\n",
            "cap-shape                   x\n",
            "cap-surface                 y\n",
            "cap-color                   n\n",
            "bruises                     f\n",
            "odor                        n\n",
            "gill-attachment             f\n",
            "gill-spacing                c\n",
            "gill-size                   b\n",
            "gill-color                  w\n",
            "stalk-shape                 e\n",
            "stalk-root                  b\n",
            "stalk-surface-above-ring    y\n",
            "stalk-surface-below-ring    y\n",
            "stalk-color-above-ring      n\n",
            "stalk-color-below-ring      n\n",
            "veil-type                   p\n",
            "veil-color                  w\n",
            "ring-number                 t\n",
            "ring-type                   p\n",
            "spore-print-color           w\n",
            "population                  y\n",
            "habitat                     d\n",
            "Name: 7887, dtype: object \n",
            "\n"
          ]
        }
      ]
    }
  ]
}