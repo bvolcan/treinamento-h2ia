{
  "nbformat": 4,
  "nbformat_minor": 0,
  "metadata": {
    "colab": {
      "provenance": [],
      "authorship_tag": "ABX9TyPawe6RooKifm7s5ZqXE7L2",
      "include_colab_link": true
    },
    "kernelspec": {
      "name": "python3",
      "display_name": "Python 3"
    },
    "language_info": {
      "name": "python"
    }
  },
  "cells": [
    {
      "cell_type": "markdown",
      "metadata": {
        "id": "view-in-github",
        "colab_type": "text"
      },
      "source": [
        "<a href=\"https://colab.research.google.com/github/bvolcan/treinamento-h2ia/blob/main/Semana3.ipynb\" target=\"_parent\"><img src=\"https://colab.research.google.com/assets/colab-badge.svg\" alt=\"Open In Colab\"/></a>"
      ]
    },
    {
      "cell_type": "markdown",
      "source": [
        "#Desenvolvimento"
      ],
      "metadata": {
        "id": "A9bqPNpV0_GU"
      }
    },
    {
      "cell_type": "code",
      "execution_count": 459,
      "metadata": {
        "colab": {
          "base_uri": "https://localhost:8080/"
        },
        "id": "UzHohnLoQ1Hg",
        "outputId": "27f13f40-7e52-4639-9315-d54e41e5b977"
      },
      "outputs": [
        {
          "output_type": "stream",
          "name": "stdout",
          "text": [
            "--2023-03-22 20:01:26--  https://archive.ics.uci.edu/ml/machine-learning-databases/mushroom/agaricus-lepiota.data\n",
            "Resolving archive.ics.uci.edu (archive.ics.uci.edu)... 128.195.10.252\n",
            "Connecting to archive.ics.uci.edu (archive.ics.uci.edu)|128.195.10.252|:443... connected.\n",
            "HTTP request sent, awaiting response... 200 OK\n",
            "Length: 373704 (365K) [application/x-httpd-php]\n",
            "Saving to: ‘agaricus-lepiota.data.2’\n",
            "\n",
            "\ragaricus-lepiota.da   0%[                    ]       0  --.-KB/s               \ragaricus-lepiota.da 100%[===================>] 364.95K  --.-KB/s    in 0.05s   \n",
            "\n",
            "2023-03-22 20:01:26 (7.33 MB/s) - ‘agaricus-lepiota.data.2’ saved [373704/373704]\n",
            "\n",
            "--2023-03-22 20:01:26--  https://archive.ics.uci.edu/ml/machine-learning-databases/mushroom/agaricus-lepiota.names\n",
            "Resolving archive.ics.uci.edu (archive.ics.uci.edu)... 128.195.10.252\n",
            "Connecting to archive.ics.uci.edu (archive.ics.uci.edu)|128.195.10.252|:443... connected.\n",
            "HTTP request sent, awaiting response... 200 OK\n",
            "Length: 6816 (6.7K) [application/x-httpd-php]\n",
            "Saving to: ‘agaricus-lepiota.names.2’\n",
            "\n",
            "agaricus-lepiota.na 100%[===================>]   6.66K  --.-KB/s    in 0s      \n",
            "\n",
            "2023-03-22 20:01:26 (169 MB/s) - ‘agaricus-lepiota.names.2’ saved [6816/6816]\n",
            "\n"
          ]
        }
      ],
      "source": [
        "import pandas as pd\n",
        "\n",
        "!wget https://archive.ics.uci.edu/ml/machine-learning-databases/mushroom/agaricus-lepiota.data\n",
        "!wget https://archive.ics.uci.edu/ml/machine-learning-databases/mushroom/agaricus-lepiota.names"
      ]
    },
    {
      "cell_type": "code",
      "source": [
        "columns=[\n",
        "  \"class\",\n",
        "  \"cap-shape\",\n",
        "  \"cap-surface\",\n",
        "  \"cap-color\",\n",
        "  \"bruises\",\n",
        "  \"odor\",\n",
        "  \"gill-attachment\",\n",
        "  \"gill-spacing\",\n",
        "  \"gill-size\",\n",
        "  \"gill-color\",\n",
        "  \"stalk-shape\",\n",
        "  \"stalk-root\",\n",
        "  \"stalk-surface-above-ring\",\n",
        "  \"stalk-surface-below-ring\",\n",
        "  \"stalk-color-above-ring\",\n",
        "  \"stalk-color-below-ring\",\n",
        "  \"veil-type\",\n",
        "  \"veil-color\",\n",
        "  \"ring-number\",\n",
        "  \"ring-type\",\n",
        "  \"spore-print-color\",\n",
        "  \"population\",\n",
        "  \"habitat\"\n",
        "]\n",
        "mushroom_raw_data = pd.read_csv(\"./agaricus-lepiota.data\",names=columns)"
      ],
      "metadata": {
        "id": "klDoNm-FUwuP"
      },
      "execution_count": 460,
      "outputs": []
    },
    {
      "cell_type": "code",
      "source": [
        "mushroom_raw_data.head()"
      ],
      "metadata": {
        "colab": {
          "base_uri": "https://localhost:8080/",
          "height": 352
        },
        "id": "Cxa-LDZNR6M7",
        "outputId": "5cf0d776-14bf-4b4d-bd53-1ef3f4c192fc"
      },
      "execution_count": 461,
      "outputs": [
        {
          "output_type": "execute_result",
          "data": {
            "text/plain": [
              "  class cap-shape cap-surface cap-color bruises odor gill-attachment  \\\n",
              "0     p         x           s         n       t    p               f   \n",
              "1     e         x           s         y       t    a               f   \n",
              "2     e         b           s         w       t    l               f   \n",
              "3     p         x           y         w       t    p               f   \n",
              "4     e         x           s         g       f    n               f   \n",
              "\n",
              "  gill-spacing gill-size gill-color  ... stalk-surface-below-ring  \\\n",
              "0            c         n          k  ...                        s   \n",
              "1            c         b          k  ...                        s   \n",
              "2            c         b          n  ...                        s   \n",
              "3            c         n          n  ...                        s   \n",
              "4            w         b          k  ...                        s   \n",
              "\n",
              "  stalk-color-above-ring stalk-color-below-ring veil-type veil-color  \\\n",
              "0                      w                      w         p          w   \n",
              "1                      w                      w         p          w   \n",
              "2                      w                      w         p          w   \n",
              "3                      w                      w         p          w   \n",
              "4                      w                      w         p          w   \n",
              "\n",
              "  ring-number ring-type spore-print-color population habitat  \n",
              "0           o         p                 k          s       u  \n",
              "1           o         p                 n          n       g  \n",
              "2           o         p                 n          n       m  \n",
              "3           o         p                 k          s       u  \n",
              "4           o         e                 n          a       g  \n",
              "\n",
              "[5 rows x 23 columns]"
            ],
            "text/html": [
              "\n",
              "  <div id=\"df-937c1492-e2a8-4710-9b95-159d1f5a4948\">\n",
              "    <div class=\"colab-df-container\">\n",
              "      <div>\n",
              "<style scoped>\n",
              "    .dataframe tbody tr th:only-of-type {\n",
              "        vertical-align: middle;\n",
              "    }\n",
              "\n",
              "    .dataframe tbody tr th {\n",
              "        vertical-align: top;\n",
              "    }\n",
              "\n",
              "    .dataframe thead th {\n",
              "        text-align: right;\n",
              "    }\n",
              "</style>\n",
              "<table border=\"1\" class=\"dataframe\">\n",
              "  <thead>\n",
              "    <tr style=\"text-align: right;\">\n",
              "      <th></th>\n",
              "      <th>class</th>\n",
              "      <th>cap-shape</th>\n",
              "      <th>cap-surface</th>\n",
              "      <th>cap-color</th>\n",
              "      <th>bruises</th>\n",
              "      <th>odor</th>\n",
              "      <th>gill-attachment</th>\n",
              "      <th>gill-spacing</th>\n",
              "      <th>gill-size</th>\n",
              "      <th>gill-color</th>\n",
              "      <th>...</th>\n",
              "      <th>stalk-surface-below-ring</th>\n",
              "      <th>stalk-color-above-ring</th>\n",
              "      <th>stalk-color-below-ring</th>\n",
              "      <th>veil-type</th>\n",
              "      <th>veil-color</th>\n",
              "      <th>ring-number</th>\n",
              "      <th>ring-type</th>\n",
              "      <th>spore-print-color</th>\n",
              "      <th>population</th>\n",
              "      <th>habitat</th>\n",
              "    </tr>\n",
              "  </thead>\n",
              "  <tbody>\n",
              "    <tr>\n",
              "      <th>0</th>\n",
              "      <td>p</td>\n",
              "      <td>x</td>\n",
              "      <td>s</td>\n",
              "      <td>n</td>\n",
              "      <td>t</td>\n",
              "      <td>p</td>\n",
              "      <td>f</td>\n",
              "      <td>c</td>\n",
              "      <td>n</td>\n",
              "      <td>k</td>\n",
              "      <td>...</td>\n",
              "      <td>s</td>\n",
              "      <td>w</td>\n",
              "      <td>w</td>\n",
              "      <td>p</td>\n",
              "      <td>w</td>\n",
              "      <td>o</td>\n",
              "      <td>p</td>\n",
              "      <td>k</td>\n",
              "      <td>s</td>\n",
              "      <td>u</td>\n",
              "    </tr>\n",
              "    <tr>\n",
              "      <th>1</th>\n",
              "      <td>e</td>\n",
              "      <td>x</td>\n",
              "      <td>s</td>\n",
              "      <td>y</td>\n",
              "      <td>t</td>\n",
              "      <td>a</td>\n",
              "      <td>f</td>\n",
              "      <td>c</td>\n",
              "      <td>b</td>\n",
              "      <td>k</td>\n",
              "      <td>...</td>\n",
              "      <td>s</td>\n",
              "      <td>w</td>\n",
              "      <td>w</td>\n",
              "      <td>p</td>\n",
              "      <td>w</td>\n",
              "      <td>o</td>\n",
              "      <td>p</td>\n",
              "      <td>n</td>\n",
              "      <td>n</td>\n",
              "      <td>g</td>\n",
              "    </tr>\n",
              "    <tr>\n",
              "      <th>2</th>\n",
              "      <td>e</td>\n",
              "      <td>b</td>\n",
              "      <td>s</td>\n",
              "      <td>w</td>\n",
              "      <td>t</td>\n",
              "      <td>l</td>\n",
              "      <td>f</td>\n",
              "      <td>c</td>\n",
              "      <td>b</td>\n",
              "      <td>n</td>\n",
              "      <td>...</td>\n",
              "      <td>s</td>\n",
              "      <td>w</td>\n",
              "      <td>w</td>\n",
              "      <td>p</td>\n",
              "      <td>w</td>\n",
              "      <td>o</td>\n",
              "      <td>p</td>\n",
              "      <td>n</td>\n",
              "      <td>n</td>\n",
              "      <td>m</td>\n",
              "    </tr>\n",
              "    <tr>\n",
              "      <th>3</th>\n",
              "      <td>p</td>\n",
              "      <td>x</td>\n",
              "      <td>y</td>\n",
              "      <td>w</td>\n",
              "      <td>t</td>\n",
              "      <td>p</td>\n",
              "      <td>f</td>\n",
              "      <td>c</td>\n",
              "      <td>n</td>\n",
              "      <td>n</td>\n",
              "      <td>...</td>\n",
              "      <td>s</td>\n",
              "      <td>w</td>\n",
              "      <td>w</td>\n",
              "      <td>p</td>\n",
              "      <td>w</td>\n",
              "      <td>o</td>\n",
              "      <td>p</td>\n",
              "      <td>k</td>\n",
              "      <td>s</td>\n",
              "      <td>u</td>\n",
              "    </tr>\n",
              "    <tr>\n",
              "      <th>4</th>\n",
              "      <td>e</td>\n",
              "      <td>x</td>\n",
              "      <td>s</td>\n",
              "      <td>g</td>\n",
              "      <td>f</td>\n",
              "      <td>n</td>\n",
              "      <td>f</td>\n",
              "      <td>w</td>\n",
              "      <td>b</td>\n",
              "      <td>k</td>\n",
              "      <td>...</td>\n",
              "      <td>s</td>\n",
              "      <td>w</td>\n",
              "      <td>w</td>\n",
              "      <td>p</td>\n",
              "      <td>w</td>\n",
              "      <td>o</td>\n",
              "      <td>e</td>\n",
              "      <td>n</td>\n",
              "      <td>a</td>\n",
              "      <td>g</td>\n",
              "    </tr>\n",
              "  </tbody>\n",
              "</table>\n",
              "<p>5 rows × 23 columns</p>\n",
              "</div>\n",
              "      <button class=\"colab-df-convert\" onclick=\"convertToInteractive('df-937c1492-e2a8-4710-9b95-159d1f5a4948')\"\n",
              "              title=\"Convert this dataframe to an interactive table.\"\n",
              "              style=\"display:none;\">\n",
              "        \n",
              "  <svg xmlns=\"http://www.w3.org/2000/svg\" height=\"24px\"viewBox=\"0 0 24 24\"\n",
              "       width=\"24px\">\n",
              "    <path d=\"M0 0h24v24H0V0z\" fill=\"none\"/>\n",
              "    <path d=\"M18.56 5.44l.94 2.06.94-2.06 2.06-.94-2.06-.94-.94-2.06-.94 2.06-2.06.94zm-11 1L8.5 8.5l.94-2.06 2.06-.94-2.06-.94L8.5 2.5l-.94 2.06-2.06.94zm10 10l.94 2.06.94-2.06 2.06-.94-2.06-.94-.94-2.06-.94 2.06-2.06.94z\"/><path d=\"M17.41 7.96l-1.37-1.37c-.4-.4-.92-.59-1.43-.59-.52 0-1.04.2-1.43.59L10.3 9.45l-7.72 7.72c-.78.78-.78 2.05 0 2.83L4 21.41c.39.39.9.59 1.41.59.51 0 1.02-.2 1.41-.59l7.78-7.78 2.81-2.81c.8-.78.8-2.07 0-2.86zM5.41 20L4 18.59l7.72-7.72 1.47 1.35L5.41 20z\"/>\n",
              "  </svg>\n",
              "      </button>\n",
              "      \n",
              "  <style>\n",
              "    .colab-df-container {\n",
              "      display:flex;\n",
              "      flex-wrap:wrap;\n",
              "      gap: 12px;\n",
              "    }\n",
              "\n",
              "    .colab-df-convert {\n",
              "      background-color: #E8F0FE;\n",
              "      border: none;\n",
              "      border-radius: 50%;\n",
              "      cursor: pointer;\n",
              "      display: none;\n",
              "      fill: #1967D2;\n",
              "      height: 32px;\n",
              "      padding: 0 0 0 0;\n",
              "      width: 32px;\n",
              "    }\n",
              "\n",
              "    .colab-df-convert:hover {\n",
              "      background-color: #E2EBFA;\n",
              "      box-shadow: 0px 1px 2px rgba(60, 64, 67, 0.3), 0px 1px 3px 1px rgba(60, 64, 67, 0.15);\n",
              "      fill: #174EA6;\n",
              "    }\n",
              "\n",
              "    [theme=dark] .colab-df-convert {\n",
              "      background-color: #3B4455;\n",
              "      fill: #D2E3FC;\n",
              "    }\n",
              "\n",
              "    [theme=dark] .colab-df-convert:hover {\n",
              "      background-color: #434B5C;\n",
              "      box-shadow: 0px 1px 3px 1px rgba(0, 0, 0, 0.15);\n",
              "      filter: drop-shadow(0px 1px 2px rgba(0, 0, 0, 0.3));\n",
              "      fill: #FFFFFF;\n",
              "    }\n",
              "  </style>\n",
              "\n",
              "      <script>\n",
              "        const buttonEl =\n",
              "          document.querySelector('#df-937c1492-e2a8-4710-9b95-159d1f5a4948 button.colab-df-convert');\n",
              "        buttonEl.style.display =\n",
              "          google.colab.kernel.accessAllowed ? 'block' : 'none';\n",
              "\n",
              "        async function convertToInteractive(key) {\n",
              "          const element = document.querySelector('#df-937c1492-e2a8-4710-9b95-159d1f5a4948');\n",
              "          const dataTable =\n",
              "            await google.colab.kernel.invokeFunction('convertToInteractive',\n",
              "                                                     [key], {});\n",
              "          if (!dataTable) return;\n",
              "\n",
              "          const docLinkHtml = 'Like what you see? Visit the ' +\n",
              "            '<a target=\"_blank\" href=https://colab.research.google.com/notebooks/data_table.ipynb>data table notebook</a>'\n",
              "            + ' to learn more about interactive tables.';\n",
              "          element.innerHTML = '';\n",
              "          dataTable['output_type'] = 'display_data';\n",
              "          await google.colab.output.renderOutput(dataTable, element);\n",
              "          const docLink = document.createElement('div');\n",
              "          docLink.innerHTML = docLinkHtml;\n",
              "          element.appendChild(docLink);\n",
              "        }\n",
              "      </script>\n",
              "    </div>\n",
              "  </div>\n",
              "  "
            ]
          },
          "metadata": {},
          "execution_count": 461
        }
      ]
    },
    {
      "cell_type": "code",
      "source": [
        "###Teste de binarização utilizando OneHotEncoder\n",
        "\n",
        "# from sklearn.preprocessing import OneHotEncoder\n",
        "\n",
        "# oneHot = OneHotEncoder(handle_unknown='ignore')\n",
        "# oneHot.fit(mushroom_raw_data)\n",
        "\n",
        "# oneHot.get_feature_names_out()\n",
        "\n",
        "# mushroom_processed_data = oneHot.transform(mushroom_raw_data)\n",
        "# mushroom_processed_data = pd.DataFrame(mushroom_processed_data.toarray(),columns=oneHot.get_feature_names_out())\n",
        "# mushroom_processed_data"
      ],
      "metadata": {
        "id": "ahX5VHJiW4SX"
      },
      "execution_count": 462,
      "outputs": []
    },
    {
      "cell_type": "code",
      "source": [
        "from sklearn.model_selection import train_test_split\n",
        "\n",
        "train, test = train_test_split(mushroom_raw_data, test_size=0.3,stratify=mushroom_raw_data[\"class\"])\n",
        "print(len(train), len(test))"
      ],
      "metadata": {
        "colab": {
          "base_uri": "https://localhost:8080/"
        },
        "id": "mnHmJbpVjchW",
        "outputId": "aad3b44b-ac6e-4915-bd8b-1ec6b1d52284"
      },
      "execution_count": 463,
      "outputs": [
        {
          "output_type": "stream",
          "name": "stdout",
          "text": [
            "5686 2438\n"
          ]
        }
      ]
    },
    {
      "cell_type": "code",
      "source": [
        "import numpy as np\n",
        "import math\n",
        "\n",
        "def find_entropy(data):\n",
        "  entropy = 0\n",
        "  for i in range(data.nunique()):\n",
        "    x = data.value_counts()[i]/data.shape[0] \n",
        "    entropy += (- x * math.log(x,2))\n",
        "  return round(entropy,3)\n",
        "\n",
        "def information_gain(data, data_):\n",
        "  info = 0\n",
        "  for i in range(data_.nunique()):\n",
        "    df = data[data_ == data_.unique()[i]]\n",
        "    w_avg = df.shape[0]/data.shape[0]\n",
        "    entropy = find_entropy(df[\"class\"])\n",
        "    x = w_avg * entropy\n",
        "    info += x\n",
        "  ig = find_entropy(data[\"class\"]) - info\n",
        "  return round(ig, 3) \n",
        "\n",
        "def entropy_and_infogain(data, feature):\n",
        "  for i in range(train[feature].nunique()):\n",
        "    df = data[data[feature]==train[feature].unique()[i]]\n",
        "    if df.shape[0] < 1:\n",
        "        continue\n",
        "    \n",
        "    # display(df[[feature, 'class']].style.applymap(highlight)\\\n",
        "    #         .set_properties(subset=[feature, 'class'], **{'width': '80px'})\\\n",
        "    #         .set_table_styles([{'selector': 'th', 'props': [('background-color', 'lightgray'), \n",
        "    #                                                         ('border', '1px solid gray'), \n",
        "    #                                                         ('font-weight', 'bold')]},\n",
        "    #                             {'selector': 'td', 'props': [('border', '1px solid gray')]},\n",
        "    #                             {'selector': 'tr:hover', 'props': [('background-color', 'white'), \n",
        "    #                                                               ('border', '1.5px solid black')]}]))\n",
        "    \n",
        "    print(f'Entropy of {feature} - {train[feature].unique()[i]} = {find_entropy(df[\"class\"])}')\n",
        "  print(f'Information Gain for {feature} = {information_gain(data, data[feature])}')"
      ],
      "metadata": {
        "id": "xBzMGjAhCfZN"
      },
      "execution_count": 464,
      "outputs": []
    },
    {
      "cell_type": "code",
      "source": [
        "print(f'Entropy of the entire dataset: {find_entropy(train[\"class\"])}')"
      ],
      "metadata": {
        "colab": {
          "base_uri": "https://localhost:8080/"
        },
        "id": "kbd0d0JeEtr9",
        "outputId": "76d2bed7-739d-402a-d059-793e076942ff"
      },
      "execution_count": 465,
      "outputs": [
        {
          "output_type": "stream",
          "name": "stdout",
          "text": [
            "Entropy of the entire dataset: 0.999\n"
          ]
        }
      ]
    },
    {
      "cell_type": "code",
      "source": [
        "def ordered_info_gain(data):\n",
        "  info_gain_list = []\n",
        "  attributes = data.columns\n",
        "  for i in range(1, len(attributes)):\n",
        "    info_gain_list.append([attributes[i],information_gain(data, data[attributes[i]])])\n",
        "  info_gain_list.sort(reverse = True, key = lambda tuple: tuple[1],)\n",
        "  return info_gain_list"
      ],
      "metadata": {
        "id": "byDZumCGNGuk"
      },
      "execution_count": 466,
      "outputs": []
    },
    {
      "cell_type": "code",
      "source": [
        "def make_sub_tree(root, data_set, target):\n",
        "  attribute_options = data_set[root].unique()\n",
        "  tree = {root: {}}\n",
        "\n",
        "  for current_option in attribute_options:\n",
        "    tree[root].update({current_option: {}})\n",
        "    current_data_set = data_set[data_set[root] == current_option].copy()\n",
        "    current_class_options = data_set[data_set[root] == current_option][target]\n",
        "\n",
        "    if current_class_options.nunique() > 1:\n",
        "      next_attribute = ordered_info_gain(current_data_set)[0][0]\n",
        "      tree[root][current_option].update(make_sub_tree(next_attribute, current_data_set, target))\n",
        "      continue\n",
        "\n",
        "    tree[root][current_option] = current_class_options.unique()[0]\n",
        "    current_data_set.drop(root, inplace=True, axis=1)\n",
        "\n",
        "  return tree"
      ],
      "metadata": {
        "id": "SSI0XN1hPeuC"
      },
      "execution_count": 476,
      "outputs": []
    },
    {
      "cell_type": "code",
      "source": [
        "import json\n",
        "\n",
        "def train_tree(data, target, print_tree = False):\n",
        "  data_copy = data.copy()\n",
        "  info_gain_list = ordered_info_gain(data_copy)\n",
        "\n",
        "  final_tree = make_sub_tree(info_gain_list[0][0], data_copy, target)\n",
        "  if print_tree: print(json.dumps(final_tree, indent=4))\n",
        "  return final_tree"
      ],
      "metadata": {
        "id": "DsEXk7IJQY23"
      },
      "execution_count": 474,
      "outputs": []
    },
    {
      "cell_type": "code",
      "source": [
        "def predict(model, data, attribute = \"\"):\n",
        "  if isinstance(model, str):\n",
        "    return model\n",
        "  elif isinstance(model, dict):\n",
        "    model_keys = list(model.keys())\n",
        "    if len(model_keys) == 1:\n",
        "      prediction = predict(model[model_keys[0]], data, model_keys[0])\n",
        "    else:\n",
        "      data_attribute = data[attribute]\n",
        "      prediction = predict(model[data_attribute], data)\n",
        "    return prediction\n"
      ],
      "metadata": {
        "id": "diicGbgFTkLL"
      },
      "execution_count": 469,
      "outputs": []
    },
    {
      "cell_type": "code",
      "source": [
        "def evaluate_prediction(data_set, model, target, print_results = True):\n",
        "  correct = 0\n",
        "  wrong = 0\n",
        "  wrong_indexes = []\n",
        "  for i in range(len(data_set)):\n",
        "    prediction = predict(model, data_set.iloc[i])\n",
        "    if prediction == data_set.iloc[i][target]: \n",
        "      correct += 1\n",
        "    else: \n",
        "      wrong += 1\n",
        "      wrong_indexes.append(i)\n",
        "\n",
        "  result = (correct / (correct + wrong)) * 100\n",
        "  if print_results: print(\"Resultados:\\nAcertos: \" + str(correct) + \"\\nErros: \" + str(wrong) + \"\\nTaxa de acerto: \" + str(result) + \"%\")\n",
        "  return correct, wrong, result, wrong_indexes"
      ],
      "metadata": {
        "id": "CXzGezxjhOCa"
      },
      "execution_count": 480,
      "outputs": []
    },
    {
      "cell_type": "markdown",
      "source": [
        "#Utilização"
      ],
      "metadata": {
        "id": "XhRTF6tI1KyF"
      }
    },
    {
      "cell_type": "code",
      "source": [
        "target = \"class\"\n",
        "tree = train_tree(train, target)\n",
        "results = evaluate_prediction(test, tree, target)"
      ],
      "metadata": {
        "colab": {
          "base_uri": "https://localhost:8080/"
        },
        "id": "Wx1iywSPqdqQ",
        "outputId": "c39cb970-c9b3-4c75-d1e7-397ff5a2e1af"
      },
      "execution_count": 484,
      "outputs": [
        {
          "output_type": "stream",
          "name": "stdout",
          "text": [
            "Resultados:\n",
            "Acertos: 2438\n",
            "Erros: 0\n",
            "Taxa de acerto: 100.0%\n"
          ]
        }
      ]
    }
  ]
}